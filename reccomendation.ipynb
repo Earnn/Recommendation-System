{
 "cells": [
  {
   "cell_type": "code",
   "execution_count": 44,
   "metadata": {},
   "outputs": [],
   "source": [
    "# def generateFirstPopulation(sizePopulation):\n",
    "#     population = []\n",
    "#     i = 0\n",
    "#     while i < sizePopulation:\n",
    "#         population.append(generateAWord(len(password)))\n",
    "#         i+=1\n",
    "#     return population"
   ]
  },
  {
   "cell_type": "code",
   "execution_count": 115,
   "metadata": {},
   "outputs": [],
   "source": [
    "from random import choice\n",
    "import operator\n",
    "def generateFirstPopulation(sizePopulation):\n",
    "    \n",
    "    population = []\n",
    "    for i in range(sizePopulation):\n",
    "        population.append(''.join(choice(['0', '1']) for _ in range(6)))\n",
    "        \n",
    "    first_gen = []\n",
    "    for i in population:\n",
    "        temp = \"\"\n",
    "    #     print(i)\n",
    "        c = i[0:2]\n",
    "        pr = i[2:5]\n",
    "        pl = i[5:6]\n",
    "    #     print(c+\" \"+pr+\" \"+pl)\n",
    "        if c in cate and pr in price and pl in place:\n",
    "            temp += c\n",
    "            temp += pr\n",
    "            temp += pl       \n",
    "            first_gen.append(temp)\n",
    "    \n",
    "    \n",
    "    return first_gen\n"
   ]
  },
  {
   "cell_type": "code",
   "execution_count": 117,
   "metadata": {
    "scrolled": true
   },
   "outputs": [
    {
     "name": "stdout",
     "output_type": "stream",
     "text": [
      "['100111', '000001', '000000', '000011', '000101', '000100', '010011', '000110', '000001', '000110', '100111', '000101', '000110', '010011', '101000', '010001', '100110', '001000', '000101', '010111', '011000', '100001', '001001', '000110', '010111', '010111']\n"
     ]
    }
   ],
   "source": [
    "pop = generateFirstPopulation(50)\n",
    "print(pop)"
   ]
  },
  {
   "cell_type": "code",
   "execution_count": 68,
   "metadata": {},
   "outputs": [],
   "source": [
    "from random import randint\n",
    "\n",
    "def fitness():\n",
    "    return  ''.join(choice(['0', '1']) for _ in range(1))\n",
    "    "
   ]
  },
  {
   "cell_type": "code",
   "execution_count": 69,
   "metadata": {},
   "outputs": [],
   "source": [
    "def computePerfPopulation(firstGeneration):\n",
    "    pop_fit = {}\n",
    "    \n",
    "    for i in pop:\n",
    "        pop_fit[i] = fitness()\n",
    "        \n",
    "    return sorted(pop_fit.items(), key = operator.itemgetter(1), reverse=True)\n",
    "    "
   ]
  },
  {
   "cell_type": "code",
   "execution_count": 70,
   "metadata": {},
   "outputs": [],
   "source": [
    "def selectFromPopulation(populationSorted,best_sample,lucky):\n",
    "    nextGeneration = []\n",
    "    for i in range(best_sample):\n",
    "        nextGeneration.append(populationSorted[i][0])\n",
    "    for i in range(lucky_few):\n",
    "        nextGeneration.append(random.choice(populationSorted)[0])\n",
    "    random.shuffle(nextGeneration)\n",
    "    return nextGeneration"
   ]
  },
  {
   "cell_type": "code",
   "execution_count": 83,
   "metadata": {},
   "outputs": [],
   "source": [
    "import random\n",
    "\n",
    "def createChild(individual1, individual2):\n",
    "    child = \"\"\n",
    "    for i in range(len(individual1)):\n",
    "        if (int(100 * random.random()) < 50):\n",
    "            child += individual1[i]\n",
    "        else:\n",
    "            child += individual2[i]\n",
    "    return child\n",
    "\n",
    "def createChildren(breeders, number_of_child):\n",
    "    nextPopulation = []\n",
    "    for i in range(len(breeders)//2):\n",
    "        for j in range(number_of_child):\n",
    "            nextPopulation.append(createChild(breeders[i], breeders[len(breeders) -1 -i]))\n",
    "    return nextPopulation"
   ]
  },
  {
   "cell_type": "code",
   "execution_count": 84,
   "metadata": {},
   "outputs": [],
   "source": [
    "\n",
    "import random\n",
    "\n",
    "def mutateWord(bit):\n",
    "    index_modification = int(random.random() * len(bit))\n",
    "    if (index_modification == 0):  \n",
    "        bit =  ''.join(choice(['0', '1']) for _ in range(1)) + bit[1:]\n",
    "    else:\n",
    "        bit = bit[:index_modification] + ''.join(choice(['0', '1']) for _ in range(1)) + bit[index_modification+1:]\n",
    "    return bit\n",
    "    \n",
    "def mutatePopulation(population, chance_of_mutation):\n",
    "    for i in range(len(population)):\n",
    "        if random.random() * 100 < chance_of_mutation:\n",
    "            population[i] = mutateWord(population[i])\n",
    "    return population"
   ]
  },
  {
   "cell_type": "code",
   "execution_count": 85,
   "metadata": {},
   "outputs": [],
   "source": [
    "def nextGeneration (firstGeneration, best_sample, lucky_few):\n",
    "    populationSorted = computePerfPopulation(firstGeneration)\n",
    "    nextBreeders = selectFromPopulation(populationSorted, best_sample, lucky_few)\n",
    "    nextPopulation = createChildren(nextBreeders, number_of_child)\n",
    "    nextGeneration = mutatePopulation(nextPopulation, chance_of_mutation)\n",
    "    return nextGeneration"
   ]
  },
  {
   "cell_type": "code",
   "execution_count": 86,
   "metadata": {},
   "outputs": [],
   "source": [
    "def multipleGeneration(number_of_generation, size_population, best_sample, lucky_few):\n",
    "    historic = []\n",
    "    historic.append(generateFirstPopulation(size_population))\n",
    "    for i in range (number_of_generation):\n",
    "        historic.append(nextGeneration(historic[i], best_sample, lucky_few))\n",
    "        return historic"
   ]
  },
  {
   "cell_type": "code",
   "execution_count": 113,
   "metadata": {},
   "outputs": [
    {
     "ename": "SyntaxError",
     "evalue": "invalid syntax (<ipython-input-113-a74249de830c>, line 4)",
     "output_type": "error",
     "traceback": [
      "\u001b[1;36m  File \u001b[1;32m\"<ipython-input-113-a74249de830c>\"\u001b[1;36m, line \u001b[1;32m4\u001b[0m\n\u001b[1;33m    for i in historic\u001b[0m\n\u001b[1;37m                     ^\u001b[0m\n\u001b[1;31mSyntaxError\u001b[0m\u001b[1;31m:\u001b[0m invalid syntax\n"
     ]
    }
   ],
   "source": [
    "\n",
    "#print result:\n",
    "def printSimpleResult(historic, number_of_generation): #bestSolution in historic. Caution not the last\n",
    "    for i in historic\n",
    "    \n",
    "        print(i)\n",
    "    print (\"solution: \\\"\" + result[0] + \"\\\" de fitness: \" + str(result[1]))\n",
    "\n",
    "#analysis tools\n",
    "def getBestIndividualFromPopulation (population):\n",
    "    temp = computePerfPopulation(population)[0]\n",
    "    print(temp)\n",
    "    return computePerfPopulation(population)[0]\n",
    "\n",
    "def getListBestIndividualFromHistorique (historic):\n",
    "    bestIndividuals = []\n",
    "    for population in historic:\n",
    "        bestIndividuals.append(getBestIndividualFromPopulation(population))\n",
    "    return bestIndividuals\n"
   ]
  },
  {
   "cell_type": "code",
   "execution_count": 114,
   "metadata": {},
   "outputs": [
    {
     "name": "stdout",
     "output_type": "stream",
     "text": [
      "[['100001', '100100', '011001', '010101', '000010', '010011', '010010', '010000', '000000', '100010', '100100', '001001', '100101', '100010', '100101', '011000', '101001', '100100', '100100', '010000', '010100', '100111', '011001', '100001', '100110', '100111', '100000', '000010'], ['100111', '100111', '000111', '100111', '100101', '111000', '010000', '000001', '001000', '000001', '010001', '110011', '010101', '010011', '010001', '101100', '000010', '100111', '100000', '000101', '100110', '100110', '100111', '100110', '100011', '001100', '101101', '100100', '010110', '001100', '000001', '000011', '000011', '000011', '000011', '000010', '000010', '000010', '000010', '000010', '001000', '000001', '000001', '011001', '001001', '001111', '000101', '011011', '011011', '001101', '000001', '000010', '000110', '100010', '000010', '011001', '011001', '011000', '011001', '010000', '000010', '000000', '000011', '000011', '000010', '011000', '010001', '011001', '011000', '010000', '100101', '100101', '100101', '100101', '100001']]\n"
     ]
    },
    {
     "ename": "NameError",
     "evalue": "name 'result' is not defined",
     "output_type": "error",
     "traceback": [
      "\u001b[1;31m---------------------------------------------------------------------------\u001b[0m",
      "\u001b[1;31mNameError\u001b[0m                                 Traceback (most recent call last)",
      "\u001b[1;32m<ipython-input-114-38d03bcb9cd4>\u001b[0m in \u001b[0;36m<module>\u001b[1;34m()\u001b[0m\n\u001b[0;32m     14\u001b[0m \u001b[0mhistoric\u001b[0m \u001b[1;33m=\u001b[0m \u001b[0mmultipleGeneration\u001b[0m\u001b[1;33m(\u001b[0m\u001b[0mnumber_of_generation\u001b[0m\u001b[1;33m,\u001b[0m \u001b[0msize_population\u001b[0m\u001b[1;33m,\u001b[0m \u001b[0mbest_sample\u001b[0m\u001b[1;33m,\u001b[0m \u001b[0mlucky_few\u001b[0m\u001b[1;33m)\u001b[0m\u001b[1;33m\u001b[0m\u001b[0m\n\u001b[0;32m     15\u001b[0m \u001b[1;31m# print(historic)\u001b[0m\u001b[1;33m\u001b[0m\u001b[1;33m\u001b[0m\u001b[0m\n\u001b[1;32m---> 16\u001b[1;33m \u001b[0mprintSimpleResult\u001b[0m\u001b[1;33m(\u001b[0m\u001b[0mhistoric\u001b[0m\u001b[1;33m,\u001b[0m \u001b[0mnumber_of_generation\u001b[0m\u001b[1;33m)\u001b[0m\u001b[1;33m\u001b[0m\u001b[0m\n\u001b[0m\u001b[0;32m     17\u001b[0m \u001b[1;33m\u001b[0m\u001b[0m\n\u001b[0;32m     18\u001b[0m \u001b[1;31m# evolutionBestFitness(historic, password)\u001b[0m\u001b[1;33m\u001b[0m\u001b[1;33m\u001b[0m\u001b[0m\n",
      "\u001b[1;32m<ipython-input-111-b36ae9d297fb>\u001b[0m in \u001b[0;36mprintSimpleResult\u001b[1;34m(historic, number_of_generation)\u001b[0m\n\u001b[0;32m      3\u001b[0m \u001b[1;32mdef\u001b[0m \u001b[0mprintSimpleResult\u001b[0m\u001b[1;33m(\u001b[0m\u001b[0mhistoric\u001b[0m\u001b[1;33m,\u001b[0m \u001b[0mnumber_of_generation\u001b[0m\u001b[1;33m)\u001b[0m\u001b[1;33m:\u001b[0m \u001b[1;31m#bestSolution in historic. Caution not the last\u001b[0m\u001b[1;33m\u001b[0m\u001b[0m\n\u001b[0;32m      4\u001b[0m     \u001b[0mprint\u001b[0m\u001b[1;33m(\u001b[0m\u001b[0mhistoric\u001b[0m\u001b[1;33m)\u001b[0m\u001b[1;33m\u001b[0m\u001b[0m\n\u001b[1;32m----> 5\u001b[1;33m     \u001b[0mprint\u001b[0m \u001b[1;33m(\u001b[0m\u001b[1;34m\"solution: \\\"\"\u001b[0m \u001b[1;33m+\u001b[0m \u001b[0mresult\u001b[0m\u001b[1;33m[\u001b[0m\u001b[1;36m0\u001b[0m\u001b[1;33m]\u001b[0m \u001b[1;33m+\u001b[0m \u001b[1;34m\"\\\" de fitness: \"\u001b[0m \u001b[1;33m+\u001b[0m \u001b[0mstr\u001b[0m\u001b[1;33m(\u001b[0m\u001b[0mresult\u001b[0m\u001b[1;33m[\u001b[0m\u001b[1;36m1\u001b[0m\u001b[1;33m]\u001b[0m\u001b[1;33m)\u001b[0m\u001b[1;33m)\u001b[0m\u001b[1;33m\u001b[0m\u001b[0m\n\u001b[0m\u001b[0;32m      6\u001b[0m \u001b[1;33m\u001b[0m\u001b[0m\n\u001b[0;32m      7\u001b[0m \u001b[1;31m#analysis tools\u001b[0m\u001b[1;33m\u001b[0m\u001b[1;33m\u001b[0m\u001b[0m\n",
      "\u001b[1;31mNameError\u001b[0m: name 'result' is not defined"
     ]
    }
   ],
   "source": [
    "\n",
    "size_population = 50\n",
    "best_sample = 15\n",
    "lucky_few = 15\n",
    "number_of_child = 5\n",
    "number_of_generation = 25\n",
    "chance_of_mutation = 5\n",
    "cate = ['00','01','10']\n",
    "price = ['000','001','010','011','100']\n",
    "place = ['0','1']\n",
    "\n",
    "\n",
    "\n",
    "historic = multipleGeneration(number_of_generation, size_population, best_sample, lucky_few)\n",
    "# print(historic)\n",
    "printSimpleResult(historic, number_of_generation)\n",
    "\n",
    "# evolutionBestFitness(historic, password)\n",
    "# evolutionAverageFitness(historic, password, size_population)"
   ]
  },
  {
   "cell_type": "code",
   "execution_count": null,
   "metadata": {},
   "outputs": [],
   "source": []
  },
  {
   "cell_type": "code",
   "execution_count": null,
   "metadata": {},
   "outputs": [],
   "source": []
  },
  {
   "cell_type": "code",
   "execution_count": null,
   "metadata": {},
   "outputs": [],
   "source": []
  },
  {
   "cell_type": "code",
   "execution_count": null,
   "metadata": {},
   "outputs": [],
   "source": []
  }
 ],
 "metadata": {
  "kernelspec": {
   "display_name": "Python 3",
   "language": "python",
   "name": "python3"
  },
  "language_info": {
   "codemirror_mode": {
    "name": "ipython",
    "version": 3
   },
   "file_extension": ".py",
   "mimetype": "text/x-python",
   "name": "python",
   "nbconvert_exporter": "python",
   "pygments_lexer": "ipython3",
   "version": "3.5.0"
  }
 },
 "nbformat": 4,
 "nbformat_minor": 2
}
