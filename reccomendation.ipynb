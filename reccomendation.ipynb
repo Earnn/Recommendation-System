{
 "cells": [
  {
   "cell_type": "code",
   "execution_count": 1,
   "metadata": {},
   "outputs": [],
   "source": [
    "\n",
    "size_population = 50\n",
    "best_sample = 15\n",
    "lucky_few = 15\n",
    "number_of_child = 5\n",
    "number_of_generation = 25\n",
    "chance_of_mutation = 5\n",
    "cate = ['00','01','10']\n",
    "price = ['000','001','010','011','100']\n",
    "place = ['0','1']"
   ]
  },
  {
   "cell_type": "code",
   "execution_count": 2,
   "metadata": {},
   "outputs": [],
   "source": [
    "# def generateFirstPopulation(sizePopulation):\n",
    "#     population = []\n",
    "#     i = 0\n",
    "#     while i < sizePopulation:\n",
    "#         population.append(generateAWord(len(password)))\n",
    "#         i+=1\n",
    "#     return population"
   ]
  },
  {
   "cell_type": "code",
   "execution_count": 3,
   "metadata": {},
   "outputs": [],
   "source": [
    "def generateFirstPopulation(sizePopulation):\n",
    "    \n",
    "    population = []\n",
    "    for i in len(sizePopulation):\n",
    "        population.append(''.join(choice(['0', '1']) for _ in range(6)))\n",
    "        \n",
    "    first_gen = []\n",
    "    for i in population :\n",
    "        temp = \"\"\n",
    "    #     print(i)\n",
    "        c = i[0:2]\n",
    "        pr = i[2:5]\n",
    "        pl = i[5:6]\n",
    "    #     print(c+\" \"+pr+\" \"+pl)\n",
    "        if c in cate and pr in price and pl in place:\n",
    "            temp += c\n",
    "            temp += pr\n",
    "            temp += pl       \n",
    "            first_gen.append(temp)\n",
    "    \n",
    "    \n",
    "    return chromosome\n"
   ]
  },
  {
   "cell_type": "code",
   "execution_count": 5,
   "metadata": {},
   "outputs": [],
   "source": [
    "def fitness():\n",
    "    return \n",
    "    "
   ]
  },
  {
   "cell_type": "code",
   "execution_count": null,
   "metadata": {},
   "outputs": [],
   "source": [
    "def selection(best_sample,lucky):\n",
    "    nextGeneration = []\n",
    "#     for i in range(best_sample):\n",
    "#         nextGeneration.append(populationSorted[i][0])\n",
    "#     for i in range(lucky_few):\n",
    "#         nextGeneration.append(random.choice(populationSorted)[0])\n",
    "    nextGeneration.append(best_sample)\n",
    "    nextGeneration.append(lucky)\n",
    "    random.shuffle(nextGeneration)\n",
    "    return nextGeneration"
   ]
  }
 ],
 "metadata": {
  "kernelspec": {
   "display_name": "Python 3",
   "language": "python",
   "name": "python3"
  },
  "language_info": {
   "codemirror_mode": {
    "name": "ipython",
    "version": 3
   },
   "file_extension": ".py",
   "mimetype": "text/x-python",
   "name": "python",
   "nbconvert_exporter": "python",
   "pygments_lexer": "ipython3",
   "version": "3.5.0"
  }
 },
 "nbformat": 4,
 "nbformat_minor": 2
}
