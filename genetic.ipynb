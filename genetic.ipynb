{
 "cells": [
  {
   "cell_type": "code",
   "execution_count": 41,
   "metadata": {},
   "outputs": [],
   "source": [
    "from random import choice\n",
    "\n",
    "def generateFirstPopulation():\n",
    "    \n",
    "    chromosome = []\n",
    "    for i in range(10):\n",
    "        chromosome.append(''.join(choice(['0', '1']) for _ in range(6)))\n",
    "        \n",
    "    first_gen = []\n",
    "    for i in list_gen :\n",
    "        temp = \"\"\n",
    "    #     print(i)\n",
    "        c = i[0:2]\n",
    "        pr = i[2:5]\n",
    "        pl = i[5:6]\n",
    "    #     print(c+\" \"+pr+\" \"+pl)\n",
    "        if c in cate and pr in price and pl in place:\n",
    "            temp += c\n",
    "            temp += pr\n",
    "            temp += pl       \n",
    "            first_gen.append(temp)\n",
    "    \n",
    "    \n",
    "    return chromosome\n"
   ]
  },
  {
   "cell_type": "code",
   "execution_count": 50,
   "metadata": {},
   "outputs": [],
   "source": [
    "list_gen = generateFirstPopulation()\n",
    "old=list_gen"
   ]
  },
  {
   "cell_type": "code",
   "execution_count": 43,
   "metadata": {},
   "outputs": [],
   "source": [
    "cate = ['00','01','10']\n",
    "price = ['000','001','010','011','100']\n",
    "place = ['0','1']"
   ]
  },
  {
   "cell_type": "code",
   "execution_count": 61,
   "metadata": {},
   "outputs": [],
   "source": [
    "first_gen = []\n",
    "for i in list_gen :\n",
    "    temp = \"\"\n",
    "#     print(i)\n",
    "    c = i[0:2]\n",
    "    pr = i[2:5]\n",
    "    pl = i[5:6]\n",
    "#     print(c+\" \"+pr+\" \"+pl)\n",
    "    if c in cate and pr in price and pl in place:\n",
    "        temp += c\n",
    "        temp += pr\n",
    "        temp += pl       \n",
    "        first_gen.append(temp)\n",
    "        \n",
    "        \n"
   ]
  },
  {
   "cell_type": "code",
   "execution_count": 62,
   "metadata": {},
   "outputs": [
    {
     "name": "stdout",
     "output_type": "stream",
     "text": [
      "['010001', '010010', '000100', '100010']\n",
      "['110100', '101100', '010001', '101101', '001010', '010010', '000100', '100010', '011101', '101111']\n"
     ]
    }
   ],
   "source": [
    "      \n",
    "print(first_gen)\n",
    "print(old)"
   ]
  },
  {
   "cell_type": "code",
   "execution_count": 47,
   "metadata": {},
   "outputs": [],
   "source": [
    "cate = ['00','01','10']\n",
    "price = ['000','001','010','011','100']\n",
    "place = ['0','1']"
   ]
  },
  {
   "cell_type": "code",
   "execution_count": null,
   "metadata": {},
   "outputs": [],
   "source": []
  }
 ],
 "metadata": {
  "kernelspec": {
   "display_name": "Python 3",
   "language": "python",
   "name": "python3"
  },
  "language_info": {
   "codemirror_mode": {
    "name": "ipython",
    "version": 3
   },
   "file_extension": ".py",
   "mimetype": "text/x-python",
   "name": "python",
   "nbconvert_exporter": "python",
   "pygments_lexer": "ipython3",
   "version": "3.6.4"
  }
 },
 "nbformat": 4,
 "nbformat_minor": 2
}
