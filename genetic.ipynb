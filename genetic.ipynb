{
 "cells": [
  {
   "cell_type": "code",
   "execution_count": 45,
   "metadata": {},
   "outputs": [],
   "source": [
    "from random import choice\n",
    "\n",
    "def generateFirstPopulation():\n",
    "    \n",
    "    chromosome = []\n",
    "    for i in range(10):\n",
    "        chromosome.append(''.join(choice(['0', '1']) for _ in range(6)))\n",
    "        \n",
    "    first_gen = []\n",
    "    for i in chromosome :\n",
    "        temp = \"\"\n",
    "    #     print(i)\n",
    "        c = i[0:2]\n",
    "        pr = i[2:5]\n",
    "        pl = i[5:6]\n",
    "    #     print(c+\" \"+pr+\" \"+pl)\n",
    "        if c in cate and pr in price and pl in place:\n",
    "            temp += c\n",
    "            temp += pr\n",
    "            temp += pl       \n",
    "            first_gen.append(temp)\n",
    "    \n",
    "    \n",
    "    return chromosome\n"
   ]
  },
  {
   "cell_type": "code",
   "execution_count": 46,
   "metadata": {},
   "outputs": [],
   "source": [
    "list_gen = generateFirstPopulation()\n",
    "old=list_gen"
   ]
  },
  {
   "cell_type": "code",
   "execution_count": 47,
   "metadata": {},
   "outputs": [],
   "source": [
    "cate = ['00','01','10']\n",
    "price = ['000','001','010','011','100']\n",
    "place = ['0','1']"
   ]
  },
  {
   "cell_type": "code",
   "execution_count": 48,
   "metadata": {},
   "outputs": [],
   "source": [
    "first_gen = []\n",
    "for i in list_gen :\n",
    "    temp = \"\"\n",
    "#     print(i)\n",
    "    c = i[0:2]\n",
    "    pr = i[2:5]\n",
    "    pl = i[5:6]\n",
    "#     print(c+\" \"+pr+\" \"+pl)\n",
    "    if c in cate and pr in price and pl in place:\n",
    "        temp += c\n",
    "        temp += pr\n",
    "        temp += pl       \n",
    "        first_gen.append(temp)\n",
    "        \n",
    "        \n"
   ]
  },
  {
   "cell_type": "code",
   "execution_count": 49,
   "metadata": {},
   "outputs": [
    {
     "name": "stdout",
     "output_type": "stream",
     "text": [
      "['100000', '100001', '000001', '001001']\n",
      "['001010', '100000', '110101', '101101', '100001', '111101', '111011', '000001', '001001', '101110']\n"
     ]
    }
   ],
   "source": [
    "      \n",
    "print(first_gen)\n",
    "print(old)"
   ]
  },
  {
   "cell_type": "code",
   "execution_count": 47,
   "metadata": {},
   "outputs": [],
   "source": [
    "cate = ['00','01','10']\n",
    "price = ['000','001','010','011','100']\n",
    "place = ['0','1']"
   ]
  },
  {
   "cell_type": "code",
   "execution_count": 42,
   "metadata": {},
   "outputs": [],
   "source": [
    "def computePerfPopulation(population, password):\n",
    "    populationPerf = {}\n",
    "    for individual in population:\n",
    "        populationPerf[individual] = fitness(password, individual)\n",
    "    return sorted(populationPerf.items(), key = operator.itemgetter(1), reverse=True)\n",
    "\n",
    "def selection(best_sample,lucky):\n",
    "    nextGeneration = []\n",
    "#     for i in range(best_sample):\n",
    "#         nextGeneration.append(populationSorted[i][0])\n",
    "#     for i in range(lucky_few):\n",
    "#         nextGeneration.append(random.choice(populationSorted)[0])\n",
    "    nextGeneration.append(best_sample)\n",
    "    nextGeneration.append(lucky)\n",
    "    random.shuffle(nextGeneration)\n",
    "    return nextGeneration\n",
    "    "
   ]
  },
  {
   "cell_type": "code",
   "execution_count": 44,
   "metadata": {},
   "outputs": [
    {
     "name": "stdout",
     "output_type": "stream",
     "text": [
      "[['010111', '000010'], '000110']\n"
     ]
    }
   ],
   "source": [
    "num = len(first_gen)\n",
    "next_gen= selection(first_gen[:2],random.choice(first_gen))\n",
    "print(next_gen)"
   ]
  },
  {
   "cell_type": "code",
   "execution_count": 35,
   "metadata": {},
   "outputs": [],
   "source": [
    "import random\n",
    "\n",
    "def createChild(individual1, individual2):\n",
    "    child = \"\"\n",
    "    for i in range(len(individual1)):\n",
    "        if (int(100 * random.random()) < 50):\n",
    "            child += individual1[i]\n",
    "        else:\n",
    "            child += individual2[i]\n",
    "    return child\n",
    "\n",
    "def cross_over(breeders, number_of_child):\n",
    "    nextPopulation = []\n",
    "    for i in range(len(breeders)/2):\n",
    "        for j in range(number_of_child):\n",
    "            nextPopulation.append(createChild(breeders[i], breeders[len(breeders) -1 -i]))\n",
    "    return nextPopulation"
   ]
  },
  {
   "cell_type": "code",
   "execution_count": null,
   "metadata": {},
   "outputs": [],
   "source": []
  },
  {
   "cell_type": "code",
   "execution_count": null,
   "metadata": {},
   "outputs": [],
   "source": [
    "\n",
    "import random\n",
    "\n",
    "def mutateWord(word):\n",
    "    index_modification = int(random.random() * len(word))\n",
    "    if (index_modification == 0):\n",
    "        word = chr(97 + int(26 * random.random())) + word[1:]\n",
    "    else:\n",
    "        word = word[:index_modification] + chr(97 + int(26 * random.random())) + word[index_modification+1:]\n",
    "    return word\n",
    "    \n",
    "def mutatePopulation(population, chance_of_mutation):\n",
    "    for i in range(len(population)):\n",
    "        if random.random() * 100 < chance_of_mutation:\n",
    "            population[i] = mutateWord(population[i])\n",
    "    return population"
   ]
  }
 ],
 "metadata": {
  "kernelspec": {
   "display_name": "Python 3",
   "language": "python",
   "name": "python3"
  },
  "language_info": {
   "codemirror_mode": {
    "name": "ipython",
    "version": 3
   },
   "file_extension": ".py",
   "mimetype": "text/x-python",
   "name": "python",
   "nbconvert_exporter": "python",
   "pygments_lexer": "ipython3",
   "version": "3.5.0"
  }
 },
 "nbformat": 4,
 "nbformat_minor": 2
}
