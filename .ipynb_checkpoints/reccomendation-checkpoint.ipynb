{
 "cells": [
  {
   "cell_type": "code",
   "execution_count": 44,
   "metadata": {},
   "outputs": [],
   "source": [
    "# def generateFirstPopulation(sizePopulation):\n",
    "#     population = []\n",
    "#     i = 0\n",
    "#     while i < sizePopulation:\n",
    "#         population.append(generateAWord(len(password)))\n",
    "#         i+=1\n",
    "#     return population"
   ]
  },
  {
   "cell_type": "code",
   "execution_count": 66,
   "metadata": {},
   "outputs": [],
   "source": [
    "from random import choice\n",
    "import operator\n",
    "def generateFirstPopulation(sizePopulation):\n",
    "    \n",
    "    population = []\n",
    "    for i in range(sizePopulation):\n",
    "        population.append(''.join(choice(['0', '1']) for _ in range(6)))\n",
    "        \n",
    "    first_gen = []\n",
    "    for i in population:\n",
    "        temp = \"\"\n",
    "    #     print(i)\n",
    "        c = i[0:2]\n",
    "        pr = i[2:5]\n",
    "        pl = i[5:6]\n",
    "    #     print(c+\" \"+pr+\" \"+pl)\n",
    "        if c in cate and pr in price and pl in place:\n",
    "            temp += c\n",
    "            temp += pr\n",
    "            temp += pl       \n",
    "            first_gen.append(temp)\n",
    "    \n",
    "    \n",
    "    return first_gen\n"
   ]
  },
  {
   "cell_type": "code",
   "execution_count": 67,
   "metadata": {
    "scrolled": true
   },
   "outputs": [],
   "source": [
    "pop = generateFirstPopulation(50)"
   ]
  },
  {
   "cell_type": "code",
   "execution_count": 68,
   "metadata": {},
   "outputs": [],
   "source": [
    "from random import randint\n",
    "\n",
    "def fitness():\n",
    "    return  ''.join(choice(['0', '1']) for _ in range(1))\n",
    "    "
   ]
  },
  {
   "cell_type": "code",
   "execution_count": 69,
   "metadata": {},
   "outputs": [],
   "source": [
    "def computePerfPopulation(firstGeneration):\n",
    "    pop_fit = {}\n",
    "    \n",
    "    for i in pop:\n",
    "        pop_fit[i] = fitness()\n",
    "        \n",
    "    return sorted(pop_fit.items(), key = operator.itemgetter(1), reverse=True)\n",
    "    "
   ]
  },
  {
   "cell_type": "code",
   "execution_count": 70,
   "metadata": {},
   "outputs": [],
   "source": [
    "def selectFromPopulation(populationSorted,best_sample,lucky):\n",
    "    nextGeneration = []\n",
    "    for i in range(best_sample):\n",
    "        nextGeneration.append(populationSorted[i][0])\n",
    "    for i in range(lucky_few):\n",
    "        nextGeneration.append(random.choice(populationSorted)[0])\n",
    "    random.shuffle(nextGeneration)\n",
    "    return nextGeneration"
   ]
  },
  {
   "cell_type": "code",
   "execution_count": 83,
   "metadata": {},
   "outputs": [],
   "source": [
    "import random\n",
    "\n",
    "def createChild(individual1, individual2):\n",
    "    child = \"\"\n",
    "    for i in range(len(individual1)):\n",
    "        if (int(100 * random.random()) < 50):\n",
    "            child += individual1[i]\n",
    "        else:\n",
    "            child += individual2[i]\n",
    "    return child\n",
    "\n",
    "def createChildren(breeders, number_of_child):\n",
    "    nextPopulation = []\n",
    "    for i in range(len(breeders)//2):\n",
    "        for j in range(number_of_child):\n",
    "            nextPopulation.append(createChild(breeders[i], breeders[len(breeders) -1 -i]))\n",
    "    return nextPopulation"
   ]
  },
  {
   "cell_type": "code",
   "execution_count": 84,
   "metadata": {},
   "outputs": [],
   "source": [
    "\n",
    "import random\n",
    "\n",
    "def mutateWord(bit):\n",
    "    index_modification = int(random.random() * len(bit))\n",
    "    if (index_modification == 0):  \n",
    "        bit =  ''.join(choice(['0', '1']) for _ in range(1)) + bit[1:]\n",
    "    else:\n",
    "        bit = bit[:index_modification] + ''.join(choice(['0', '1']) for _ in range(1)) + bit[index_modification+1:]\n",
    "    return bit\n",
    "    \n",
    "def mutatePopulation(population, chance_of_mutation):\n",
    "    for i in range(len(population)):\n",
    "        if random.random() * 100 < chance_of_mutation:\n",
    "            population[i] = mutateWord(population[i])\n",
    "    return population"
   ]
  },
  {
   "cell_type": "code",
   "execution_count": 85,
   "metadata": {},
   "outputs": [],
   "source": [
    "def nextGeneration (firstGeneration, best_sample, lucky_few):\n",
    "    populationSorted = computePerfPopulation(firstGeneration)\n",
    "    nextBreeders = selectFromPopulation(populationSorted, best_sample, lucky_few)\n",
    "    nextPopulation = createChildren(nextBreeders, number_of_child)\n",
    "    nextGeneration = mutatePopulation(nextPopulation, chance_of_mutation)\n",
    "    return nextGeneration"
   ]
  },
  {
   "cell_type": "code",
   "execution_count": 86,
   "metadata": {},
   "outputs": [],
   "source": [
    "def multipleGeneration(number_of_generation, size_population, best_sample, lucky_few):\n",
    "    historic = []\n",
    "    historic.append(generateFirstPopulation(size_population))\n",
    "    for i in range (number_of_generation):\n",
    "        historic.append(nextGeneration(historic[i], best_sample, lucky_few))\n",
    "        return historic"
   ]
  },
  {
   "cell_type": "code",
   "execution_count": 87,
   "metadata": {},
   "outputs": [],
   "source": [
    "\n",
    "#print result:\n",
    "def printSimpleResult(historic, number_of_generation): #bestSolution in historic. Caution not the last\n",
    "    result = getListBestIndividualFromHistorique(historic)[number_of_generation-1]\n",
    "    print (\"solution: \\\"\" + result[0] + \"\\\" de fitness: \" + str(result[1]))\n",
    "\n",
    "#analysis tools\n",
    "def getBestIndividualFromPopulation (population):\n",
    "    temp = computePerfPopulation(population)[0]\n",
    "    print(temp)\n",
    "    return computePerfPopulation(population)[0]\n",
    "\n",
    "def getListBestIndividualFromHistorique (historic):\n",
    "    bestIndividuals = []\n",
    "    for population in historic:\n",
    "        bestIndividuals.append(getBestIndividualFromPopulation(population))\n",
    "    return bestIndividuals\n"
   ]
  },
  {
   "cell_type": "code",
   "execution_count": 90,
   "metadata": {},
   "outputs": [
    {
     "ename": "IndexError",
     "evalue": "list index out of range",
     "output_type": "error",
     "traceback": [
      "\u001b[1;31m---------------------------------------------------------------------------\u001b[0m",
      "\u001b[1;31mIndexError\u001b[0m                                Traceback (most recent call last)",
      "\u001b[1;32m<ipython-input-90-38d03bcb9cd4>\u001b[0m in \u001b[0;36m<module>\u001b[1;34m()\u001b[0m\n\u001b[0;32m     14\u001b[0m \u001b[0mhistoric\u001b[0m \u001b[1;33m=\u001b[0m \u001b[0mmultipleGeneration\u001b[0m\u001b[1;33m(\u001b[0m\u001b[0mnumber_of_generation\u001b[0m\u001b[1;33m,\u001b[0m \u001b[0msize_population\u001b[0m\u001b[1;33m,\u001b[0m \u001b[0mbest_sample\u001b[0m\u001b[1;33m,\u001b[0m \u001b[0mlucky_few\u001b[0m\u001b[1;33m)\u001b[0m\u001b[1;33m\u001b[0m\u001b[0m\n\u001b[0;32m     15\u001b[0m \u001b[1;31m# print(historic)\u001b[0m\u001b[1;33m\u001b[0m\u001b[1;33m\u001b[0m\u001b[0m\n\u001b[1;32m---> 16\u001b[1;33m \u001b[0mprintSimpleResult\u001b[0m\u001b[1;33m(\u001b[0m\u001b[0mhistoric\u001b[0m\u001b[1;33m,\u001b[0m \u001b[0mnumber_of_generation\u001b[0m\u001b[1;33m)\u001b[0m\u001b[1;33m\u001b[0m\u001b[0m\n\u001b[0m\u001b[0;32m     17\u001b[0m \u001b[1;33m\u001b[0m\u001b[0m\n\u001b[0;32m     18\u001b[0m \u001b[1;31m# evolutionBestFitness(historic, password)\u001b[0m\u001b[1;33m\u001b[0m\u001b[1;33m\u001b[0m\u001b[0m\n",
      "\u001b[1;32m<ipython-input-87-b3ed9013e4df>\u001b[0m in \u001b[0;36mprintSimpleResult\u001b[1;34m(historic, number_of_generation)\u001b[0m\n\u001b[0;32m      2\u001b[0m \u001b[1;31m#print result:\u001b[0m\u001b[1;33m\u001b[0m\u001b[1;33m\u001b[0m\u001b[0m\n\u001b[0;32m      3\u001b[0m \u001b[1;32mdef\u001b[0m \u001b[0mprintSimpleResult\u001b[0m\u001b[1;33m(\u001b[0m\u001b[0mhistoric\u001b[0m\u001b[1;33m,\u001b[0m \u001b[0mnumber_of_generation\u001b[0m\u001b[1;33m)\u001b[0m\u001b[1;33m:\u001b[0m \u001b[1;31m#bestSolution in historic. Caution not the last\u001b[0m\u001b[1;33m\u001b[0m\u001b[0m\n\u001b[1;32m----> 4\u001b[1;33m     \u001b[0mresult\u001b[0m \u001b[1;33m=\u001b[0m \u001b[0mgetListBestIndividualFromHistorique\u001b[0m\u001b[1;33m(\u001b[0m\u001b[0mhistoric\u001b[0m\u001b[1;33m)\u001b[0m\u001b[1;33m[\u001b[0m\u001b[0mnumber_of_generation\u001b[0m\u001b[1;33m-\u001b[0m\u001b[1;36m1\u001b[0m\u001b[1;33m]\u001b[0m\u001b[1;33m\u001b[0m\u001b[0m\n\u001b[0m\u001b[0;32m      5\u001b[0m     \u001b[0mprint\u001b[0m \u001b[1;33m(\u001b[0m\u001b[1;34m\"solution: \\\"\"\u001b[0m \u001b[1;33m+\u001b[0m \u001b[0mresult\u001b[0m\u001b[1;33m[\u001b[0m\u001b[1;36m0\u001b[0m\u001b[1;33m]\u001b[0m \u001b[1;33m+\u001b[0m \u001b[1;34m\"\\\" de fitness: \"\u001b[0m \u001b[1;33m+\u001b[0m \u001b[0mstr\u001b[0m\u001b[1;33m(\u001b[0m\u001b[0mresult\u001b[0m\u001b[1;33m[\u001b[0m\u001b[1;36m1\u001b[0m\u001b[1;33m]\u001b[0m\u001b[1;33m)\u001b[0m\u001b[1;33m)\u001b[0m\u001b[1;33m\u001b[0m\u001b[0m\n\u001b[0;32m      6\u001b[0m \u001b[1;33m\u001b[0m\u001b[0m\n",
      "\u001b[1;31mIndexError\u001b[0m: list index out of range"
     ]
    }
   ],
   "source": [
    "\n",
    "size_population = 50\n",
    "best_sample = 15\n",
    "lucky_few = 15\n",
    "number_of_child = 5\n",
    "number_of_generation = 25\n",
    "chance_of_mutation = 5\n",
    "cate = ['00','01','10']\n",
    "price = ['000','001','010','011','100']\n",
    "place = ['0','1']\n",
    "\n",
    "\n",
    "\n",
    "historic = multipleGeneration(number_of_generation, size_population, best_sample, lucky_few)\n",
    "# print(historic)\n",
    "printSimpleResult(historic, number_of_generation)\n",
    "\n",
    "# evolutionBestFitness(historic, password)\n",
    "# evolutionAverageFitness(historic, password, size_population)"
   ]
  },
  {
   "cell_type": "code",
   "execution_count": null,
   "metadata": {},
   "outputs": [],
   "source": []
  },
  {
   "cell_type": "code",
   "execution_count": null,
   "metadata": {},
   "outputs": [],
   "source": []
  },
  {
   "cell_type": "code",
   "execution_count": null,
   "metadata": {},
   "outputs": [],
   "source": []
  }
 ],
 "metadata": {
  "kernelspec": {
   "display_name": "Python 3",
   "language": "python",
   "name": "python3"
  },
  "language_info": {
   "codemirror_mode": {
    "name": "ipython",
    "version": 3
   },
   "file_extension": ".py",
   "mimetype": "text/x-python",
   "name": "python",
   "nbconvert_exporter": "python",
   "pygments_lexer": "ipython3",
   "version": "3.5.0"
  }
 },
 "nbformat": 4,
 "nbformat_minor": 2
}
